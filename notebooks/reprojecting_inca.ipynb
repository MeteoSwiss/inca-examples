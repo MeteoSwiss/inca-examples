{
  "cells": [
    {
      "cell_type": "markdown",
      "metadata": {
        "id": "skdw4EOs_Ecp"
      },
      "source": [
        "[![Open In Colab](https://colab.research.google.com/assets/colab-badge.svg)](https://colab.research.google.com/github/MeteoSwiss/inca-examples/blob/main/notebooks/reprojecting_inca.ipynb)\n",
        "\n",
        "# Reproject INCA data\n",
        "\n",
        "In this jupyter notebook, we will show how to import and reproject a precipitation\n",
        "forecast from the INCA [nowcasting system](https://www.meteoswiss.admin.ch/home/services-and-publications/produkte.subpage.html/en/data/products/2021/nowcasting-inca-ch.html).\n",
        "\n",
        "## Install dependencies\n",
        "\n",
        "First, let's set up our working environment. It is recommended to use a virtual\n",
        "environment.\n",
        "\n",
        "**Important**: In Google Colab, this notebook needs to be executed one cell\n",
        "at a time. Trying to excecute all the cells at once may results in cells being \n",
        "skipped and some dependencies not being installed.\n",
        "\n",
        "Now, let's install the  dependendies that will allow us to read and visualize the \n",
        "example data. We will need [xarray](http://xarray.pydata.org) to work with\n",
        "labelled multi-dimensional arrays, [pyproj](https://github.com/pyproj4/pyproj)\n",
        "for coordinate transformations, and [rioxarray](https://github.com/corteva/rioxarray)\n",
        "to extend xarray with methods from [rasterio](https://rasterio.readthedocs.io) for geospatial datasets.\n"
      ]
    },
    {
      "cell_type": "code",
      "execution_count": null,
      "metadata": {
        "id": "F9ICCaSDitOi"
      },
      "outputs": [],
      "source": [
        "!pip install xarray pyproj rioxarray"
      ]
    },
    {
      "cell_type": "markdown",
      "metadata": {
        "id": "114UiyPji2Mq"
      },
      "source": [
        "## Download the data\n",
        "\n",
        "Now that we have the environment ready, let's download an example dataset.\n",
        "\n",
        "On [Zenodo](https://zenodo.org/record/5575197), we can download the ouput from a\n",
        "single run of INCA for precipitation (mm/h)."
      ]
    },
    {
      "cell_type": "code",
      "execution_count": null,
      "metadata": {
        "id": "FerW6ApoixXs"
      },
      "outputs": [],
      "source": [
        "!wget https://zenodo.org/record/5575197/files/RR_INCA.nc"
      ]
    },
    {
      "cell_type": "markdown",
      "metadata": {
        "id": "x_synBNci_di"
      },
      "source": [
        "## Read the data\n",
        "\n",
        "Now that we have downloaded the example data, let's import the example netCDF \n",
        "with `xarray.open_dataset()` method.\n",
        "\n",
        "The file is called `RR_INCA.nc`. \"RR\" is the product name used to identify\n",
        "the quantitative precipitation nowcasting product based on the merging between\n",
        "radar and station observations (named CombiPrecip). This product is in units of\n",
        "mm/h, it is updated every 10 minutes, and it has a 6 hour forecast range.\n",
        "\n",
        "We import this 6-hour precipitation forecast, which corresponds to a sequence of 37 \n",
        "frames of 10-min precipitation fields (1 analysis and 36 forecasts)."
      ]
    },
    {
      "cell_type": "code",
      "execution_count": null,
      "metadata": {
        "id": "OiEU_0dRi6PQ"
      },
      "outputs": [],
      "source": [
        "import xarray as xr\n",
        "\n",
        "ds = xr.open_dataset(\"RR_INCA.nc\")\n",
        "ds"
      ]
    },
    {
      "cell_type": "markdown",
      "metadata": {
        "id": "1SloTuNn2i3X"
      },
      "source": [
        "## Reproject with pyproj\n",
        "\n",
        "The Swiss CH1903 / LV03 coordinates ([EPSG 21781](https://epsg.io/21781)) can be reprojected to any other reference system using pyproj. \n",
        "In the example below, we'll use WGS84 as the target projection ([EPSG 4326](https://epsg.io/4326)).\n",
        "\n",
        "Note that as a result, the dataset won't be anymore on a regular grid."
      ]
    },
    {
      "cell_type": "code",
      "execution_count": null,
      "metadata": {
        "id": "bUSnv23F0r_r"
      },
      "outputs": [],
      "source": [
        "import numpy as np\n",
        "from pyproj import Transformer\n",
        "\n",
        "chxv, chyv = np.meshgrid(ds.chx, ds.chy)\n",
        "transformer = Transformer.from_crs(\n",
        "    \"epsg:21781\", \n",
        "    \"epsg:4326\",\n",
        "    always_xy=True,\n",
        ") \n",
        "lon, lat = transformer.transform(chxv, chyv)\n",
        "ds = ds.assign_coords({\"lon\": ((\"chy\", \"chx\"), lon) , \"lat\": ((\"chy\", \"chx\"), lat)})\n",
        "ds.RR.isel(time=0).plot.pcolormesh(\"lon\", \"lat\")  # not a regular grid anymore"
      ]
    },
    {
      "cell_type": "markdown",
      "metadata": {
        "id": "0gypXK0eB1cO"
      },
      "source": [
        "## Reproject and resample with rioxarray\n",
        "\n",
        "The rioxarray library extends xarray with methods based on rasterio to handle georefenced dataset. This makes it very easy to reproject and resample datasets between different CRS."
      ]
    },
    {
      "cell_type": "code",
      "execution_count": null,
      "metadata": {
        "id": "ThLXkR5O8Au_"
      },
      "outputs": [],
      "source": [
        "import rioxarray  # for the extension to load\n",
        "\n",
        "ds = xr.open_dataset(\"RR_INCA.nc\")\n",
        "ds = ds.rio.write_crs(\"epsg:21781\")\n",
        "ds_latlon = ds.rio.reproject(\"epsg:4326\", resolution=0.01)\n",
        "ds_latlon.RR.isel(time=0).plot()  # still a regular grid\n",
        "ds_latlon"
      ]
    }
  ],
  "metadata": {
    "colab": {
      "collapsed_sections": [],
      "name": "MeteoSwiss_INCA_reproject_raster.ipynb",
      "provenance": []
    },
    "kernelspec": {
      "display_name": "Python 3",
      "language": "python",
      "name": "python3"
    }
  },
  "nbformat": 4,
  "nbformat_minor": 2
}
