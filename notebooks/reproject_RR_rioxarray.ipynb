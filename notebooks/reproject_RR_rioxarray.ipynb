{
  "nbformat": 4,
  "nbformat_minor": 2,
  "metadata": {
    "colab": {
      "name": "MeteoSwiss_INCA_reproject_raster.ipynb",
      "provenance": [],
      "collapsed_sections": []
    },
    "kernelspec": {
      "name": "python3",
      "display_name": "Python 3",
      "language": "python"
    }
  },
  "cells": [
    {
      "cell_type": "markdown",
      "source": [
        "[![Open In Colab](https://colab.research.google.com/assets/colab-badge.svg)](https://colab.research.google.com/github/MeteoSwiss/inca-examples/blob/main/notebooks/reproject_RR_rioxarray.ipynb)\n",
        "\n",
        "# Reproject INCA data\n",
        "\n",
        "In this example, we will show how to import and reproject a precipitation forecast from the INCA [nowcasting system](https://www.meteoswiss.admin.ch/home/measurement-and-forecasting-systems/warning-and-forecasting-systems/nowcasting.html).\n",
        "\n",
        "## Set-up Colab environment\n",
        "\n",
        "**Important**: In colab, execute this section one cell at a time. Trying to excecute all the cells at once may results in cells being skipped and some dependencies not being installed.\n",
        "\n",
        "First, let's set up our working environment. Note that these steps are only needed to work with google colab. \n",
        "\n",
        "#### Install dependencies\n",
        "\n",
        "Now, let's install the  dependendies that will allow us to plot and read the example data.\n",
        "- [xarray](https://github.com/pydata/xarray): work with labelled multi-dimensional arrays.\n",
        "- [pyproj:](https://github.com/pyproj4/pyproj): cartographic projections and coordinate transformations.\n",
        "- [rioxarray](https://github.com/corteva/rioxarray): rasterio xarray extension for geospatial datasets."
      ],
      "metadata": {
        "id": "skdw4EOs_Ecp"
      }
    },
    {
      "cell_type": "code",
      "execution_count": null,
      "source": [
        "!pip install xarray pyproj rioxarray"
      ],
      "outputs": [],
      "metadata": {
        "id": "F9ICCaSDitOi"
      }
    },
    {
      "cell_type": "code",
      "execution_count": null,
      "source": [
        "!pip install xarray pyproj rioxarray"
      ],
      "outputs": [],
      "metadata": {
        "id": "F9ICCaSDitOi"
      }
    },
    {
      "cell_type": "markdown",
      "source": [
        "## Upload the data\n",
        "\n",
        "Now that we have the environment ready, let's upload an example dataset from your local file system."
      ],
      "metadata": {
        "id": "114UiyPji2Mq"
      }
    },
    {
      "cell_type": "code",
      "execution_count": null,
      "source": [
        "from google.colab import files\n",
        "\n",
        "uploaded = files.upload()\n",
        "\n",
        "for fn in uploaded.keys():\n",
        "  print(f'User uploaded file \"{fn}\" with length {len(uploaded[fn])} bytes')"
      ],
      "outputs": [],
      "metadata": {
        "id": "FerW6ApoixXs"
      }
    },
    {
      "cell_type": "markdown",
      "source": [
        "## Read the data\n",
        "\n",
        "Now that we have uploaded the example data, let's import the example netCDF with xarray's `open_dataset` method.\n",
        "\n",
        "We import a 6-hour precipitation nowcast, which corresponds to a sequence of 37 frames of 2-D precipitation composites (1 analysis and 36 forecast lead times)."
      ],
      "metadata": {
        "id": "x_synBNci_di"
      }
    },
    {
      "cell_type": "code",
      "execution_count": null,
      "source": [
        "import xarray as xr\n",
        "\n",
        "ds = xr.open_dataset(\"RR_INCA.nc\")\n",
        "ds"
      ],
      "outputs": [],
      "metadata": {
        "id": "OiEU_0dRi6PQ"
      }
    },
    {
      "cell_type": "markdown",
      "source": [
        "## Reproject with pyproj\n",
        "\n",
        "The Swiss CH1903 / LV95 coordinates (EPSG 21781) can be reprojected to any other reference system using pyproj. \n",
        "\n",
        "Note that as a result, the dataset won't be anymore on a regular grid."
      ],
      "metadata": {
        "id": "1SloTuNn2i3X"
      }
    },
    {
      "cell_type": "code",
      "execution_count": null,
      "source": [
        "import numpy as np\n",
        "from pyproj import Transformer\n",
        "\n",
        "chxv, chyv = np.meshgrid(ds.chx, ds.chy)\n",
        "transformer = Transformer.from_crs(\n",
        "    \"epsg:21781\", \n",
        "    \"epsg:4326\",\n",
        "    always_xy=True,\n",
        ") \n",
        "lon, lat = transformer.transform(chxv, chyv)\n",
        "ds = ds.assign_coords({\"lon\": ((\"chy\", \"chx\"), lon) , \"lat\": ((\"chy\", \"chx\"), lat)})\n",
        "ds.RR.isel(time=0).plot.pcolormesh(\"lon\", \"lat\")  # not a regular grid anymore"
      ],
      "outputs": [],
      "metadata": {
        "id": "bUSnv23F0r_r"
      }
    },
    {
      "cell_type": "markdown",
      "source": [
        "## Reproject and resample with rioxarray\n",
        "\n",
        "The rioxarray library extends xarray with methods based on rasterio to handle georefenced dataset. This makes it very easy to reproject and resample datasets between different CRS."
      ],
      "metadata": {
        "id": "0gypXK0eB1cO"
      }
    },
    {
      "cell_type": "code",
      "execution_count": null,
      "source": [
        "import rioxarray # for the extension to load\n",
        "\n",
        "ds = xr.open_dataset(\"RR_INCA.nc\")\n",
        "ds = ds.rio.write_crs(\"epsg:21781\")\n",
        "ds_latlon = ds.rio.reproject(\"epsg:4326\", resolution=0.01)\n",
        "ds_latlon.RR.isel(time=0).plot()  # still a regular grid\n",
        "ds_latlon"
      ],
      "outputs": [],
      "metadata": {
        "id": "ThLXkR5O8Au_"
      }
    }
  ]
}