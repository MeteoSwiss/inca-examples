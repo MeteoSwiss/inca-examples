{
  "nbformat": 4,
  "nbformat_minor": 2,
  "metadata": {
    "colab": {
      "name": "MeteoSwiss_INCA_plot.ipynb",
      "provenance": [],
      "collapsed_sections": [],
      "toc_visible": true
    },
    "kernelspec": {
      "name": "python3",
      "display_name": "Python 3"
    },
    "language_info": {
      "name": "python"
    }
  },
  "cells": [
    {
      "cell_type": "markdown",
      "source": [
        "[![Open In Colab](https://colab.research.google.com/assets/colab-badge.svg)](https://colab.research.google.com/github/MeteoSwiss/inca-examples/blob/main/notebooks/plot_RR_cartopy.ipynb)\n",
        "\n",
        "# Plot INCA data\n",
        "\n",
        "In this example, we will show how to import and plot a precipitation forecast from the INCA [nowcasting system](https://www.meteoswiss.admin.ch/home/measurement-and-forecasting-systems/warning-and-forecasting-systems/nowcasting.html).\n",
        "\n",
        "## Set-up Colab environment\n",
        "\n",
        "**Important**: In colab, execute this section one cell at a time. Trying to excecute all the cells at once may results in cells being skipped and some dependencies not being installed.\n",
        "\n",
        "First, let's set up our working environment. Note that these steps are only needed to work with google colab. \n",
        "\n",
        "#### Install dependencies\n",
        "\n",
        "Now, let's install the  dependendies that will allow us to plot and read the example data.\n",
        "- xarray: read the netCDF4 dataset\n",
        "- matplotlib: visualization"
      ],
      "metadata": {
        "id": "h4Lo8r93EpKY"
      }
    },
    {
      "cell_type": "code",
      "execution_count": null,
      "source": [
        "!pip install xarray matplotlib"
      ],
      "outputs": [],
      "metadata": {
        "id": "1FliAD89Eeq5"
      }
    },
    {
      "cell_type": "markdown",
      "source": [
        "## Upload the data\n",
        "\n",
        "Now that we have the environment ready, let's upload an example dataset from your local file system."
      ],
      "metadata": {
        "id": "fkNdiA35Ffxe"
      }
    },
    {
      "cell_type": "code",
      "execution_count": null,
      "source": [
        "from google.colab import files\n",
        "\n",
        "uploaded = files.upload()\n",
        "\n",
        "for fn in uploaded.keys():\n",
        "  print(f'User uploaded file \"{fn}\" with length {len(uploaded[fn])} bytes')"
      ],
      "outputs": [],
      "metadata": {
        "id": "LKnhNnAWFqok"
      }
    },
    {
      "cell_type": "markdown",
      "source": [
        "## Read the data\n",
        "\n",
        "Now that we have uploaded the example data, let's import the example netCDF with xarray's `open_dataset` method.\n",
        "\n",
        "We import a 6-hour precipitation nowcast, which corresponds to a sequence of 37 frames of 2-D precipitation composites (1 analysis and 36 forecast lead times)."
      ],
      "metadata": {
        "id": "CtdZmHPOGRVJ"
      }
    },
    {
      "cell_type": "code",
      "execution_count": null,
      "source": [
        "import xarray as xr\n",
        "\n",
        "ds = xr.open_dataset(\"RR_INCA.nc\")\n",
        "ds"
      ],
      "outputs": [],
      "metadata": {
        "id": "CJCXSs_vGmtb"
      }
    },
    {
      "cell_type": "markdown",
      "source": [
        "## Basic plotting\n",
        "\n",
        "Xarray's includes some plotting functionalities that we can use to visualize our example data."
      ],
      "metadata": {
        "id": "c11ATNqxHApY"
      }
    },
    {
      "cell_type": "code",
      "execution_count": null,
      "source": [
        "precip_field = ds.RR.isel(time=0) # select the first rainfall field, that is, the analysis\n",
        "precip_field.plot()"
      ],
      "outputs": [],
      "metadata": {
        "id": "buWpT4sCHJYQ"
      }
    },
    {
      "cell_type": "markdown",
      "source": [
        "One can easily add transparency to the dry areas and customize the [colormap](https://matplotlib.org/stable/tutorials/colors/colormaps.html)."
      ],
      "metadata": {
        "id": "DDaocPi-IFEG"
      }
    },
    {
      "cell_type": "code",
      "execution_count": null,
      "source": [
        "import numpy as np\n",
        "\n",
        "levels = np.logspace(-1, 2, 10, base=10)\n",
        "cmap = \"Blues\"\n",
        "precip_field.where(precip_field >= 0.1).plot(levels=levels, cmap=cmap)"
      ],
      "outputs": [],
      "metadata": {
        "id": "fjEfb7guHUMK"
      }
    },
    {
      "cell_type": "markdown",
      "source": [
        "## Plot with Cartopy\n",
        "\n",
        "[Cartopy](https://scitools.org.uk/cartopy/docs/latest/) is a python library for plotting georeferenced datasets and maps. \n",
        "\n",
        "Installing Cartopy is a bit more involved as it requires few additonal library dependencies. Also, shapely need to be reinstalled by ignoring the binary\n",
        "wheels to make it compatible with Cartopy."
      ],
      "metadata": {
        "id": "5ihL6a1nJvL6"
      }
    },
    {
      "cell_type": "code",
      "execution_count": null,
      "source": [
        "!apt-get install -qq libgdal-dev libgeos-dev\n",
        "!pip uninstall --yes shapely\n",
        "!pip install shapely --no-binary shapely\n",
        "!pip install cartopy pyepsg"
      ],
      "outputs": [],
      "metadata": {
        "id": "HdqXwGRmJZE7"
      }
    },
    {
      "cell_type": "markdown",
      "source": [
        "We first define a method to plot reference geographical features to an existing figure axis."
      ],
      "metadata": {
        "id": "FRMYUd4xPuxs"
      }
    },
    {
      "cell_type": "code",
      "execution_count": null,
      "source": [
        "import cartopy.crs as ccrs\n",
        "import cartopy.feature as cfeature\n",
        "\n",
        "def add_geo_features(ax):\n",
        "    \"\"\"\n",
        "    Add reference geographical layers such as thenational boundaries\n",
        "    and the main lakes and rivers.\n",
        "    \"\"\"\n",
        "    ax.add_feature(\n",
        "        cfeature.NaturalEarthFeature(\n",
        "            \"cultural\",\n",
        "            \"admin_0_boundary_lines_land\",\n",
        "            scale=\"10m\",\n",
        "            edgecolor=\"black\",\n",
        "            facecolor=\"none\",\n",
        "            linewidth=1,\n",
        "        )\n",
        "    )\n",
        "    ax.add_feature(\n",
        "        cfeature.NaturalEarthFeature(\n",
        "            \"physical\",\n",
        "            \"rivers_lake_centerlines\",\n",
        "            scale=\"10m\",\n",
        "            edgecolor=np.array([0.59375, 0.71484375, 0.8828125]),\n",
        "            facecolor=\"none\",\n",
        "            linewidth=1,\n",
        "        )\n",
        "    )"
      ],
      "outputs": [],
      "metadata": {
        "id": "G71wDhiIH2AL"
      }
    },
    {
      "cell_type": "markdown",
      "source": [
        "To use Cartopy, we need to specify the source and target coordinate reference system. In our case, the Swiss coordinate system CH1903/LV03 can be identified by its EPSG code [21781]((https://epsg.io/21781))."
      ],
      "metadata": {
        "id": "D3HFyJ3bPKva"
      }
    },
    {
      "cell_type": "code",
      "execution_count": null,
      "source": [
        "crs = ccrs.epsg(21781)\n",
        "\n",
        "# plot the precipitation field on the original Swiss projection\n",
        "ax = precip_field.where(precip_field > 0).plot(\n",
        "    transform=crs,\n",
        "    subplot_kws=dict(projection=crs),\n",
        "    levels=levels, \n",
        "    cmap=cmap\n",
        "    ).axes\n",
        "add_geo_features(ax)"
      ],
      "outputs": [],
      "metadata": {
        "id": "f3qAMATSVbMV"
      }
    },
    {
      "cell_type": "markdown",
      "source": [
        "With Cartopy, we can easily switch to alternative geographical [projections](https://scitools.org.uk/cartopy/docs/latest/crs/projections.html), here for example using Plate Carrée."
      ],
      "metadata": {
        "id": "VyKXUvOBVbam"
      }
    },
    {
      "cell_type": "code",
      "execution_count": null,
      "source": [
        "# plot the precipitation field on the Plate Carrée projection\n",
        "ax = precip_field.where(precip_field > 0).plot(\n",
        "    transform=crs,\n",
        "    subplot_kws=dict(projection=ccrs.PlateCarree()),\n",
        "    levels=levels, \n",
        "    cmap=cmap\n",
        "    ).axes\n",
        "add_geo_features(ax)\n",
        "\n",
        "# draw lat lon lines\n",
        "grid_lines = ax.gridlines(\n",
        "    crs=ccrs.PlateCarree(), \n",
        "    draw_labels=True, \n",
        "    dms=True\n",
        ")\n",
        "grid_lines.top_labels = grid_lines.right_labels = False\n",
        "grid_lines.y_inline = grid_lines.x_inline = False\n",
        "grid_lines.rotate_labels = False\n",
        "\n",
        "# zoom on the map\n",
        "ax.set_extent([5.5, 11, 44.5, 49])"
      ],
      "outputs": [],
      "metadata": {
        "id": "FocRYbElJ033"
      }
    }
  ]
}